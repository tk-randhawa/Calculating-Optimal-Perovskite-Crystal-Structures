{
 "cells": [
  {
   "cell_type": "code",
   "execution_count": 1,
   "id": "cec4ccf7",
   "metadata": {},
   "outputs": [],
   "source": [
    "import numpy as np\n",
    "import pandas as pd\n",
    "import csv\n",
    "\n",
    "#read in the ions for each charge\n",
    "\n",
    "df = pd.read_csv('allCharges.csv')\n",
    "df.fillna(0, inplace = True)\n",
    "a1 = df.iloc[0:7,0].tolist()\n",
    "x = df.iloc[0:4,1].tolist()\n",
    "b1 = df.iloc[0:9,2].tolist()\n",
    "b2 = df.iloc[0:18,3].tolist()\n",
    "b3 = df.iloc[0:21,4].tolist()\n",
    "b4 = df.iloc[0:26,5].tolist()"
   ]
  },
  {
   "cell_type": "code",
   "execution_count": 9,
   "id": "ffa60166",
   "metadata": {},
   "outputs": [],
   "source": [
    "#read in the redox potentials\n",
    "df2 = pd.read_csv('updatedRedox.csv')\n",
    "\n",
    "redox = {} #dictionary of redox potentials\n",
    "\n",
    "rows = df2.index\n",
    "for i in range(len(rows)):\n",
    "    ion = df2.iloc[i,0]\n",
    "  #  print(s)\n",
    "    ion = ion.split(\" \")\n",
    "    \n",
    "    potential = df2.iloc[i,1]\n",
    "    potential = potential.split(\" \")\n",
    "  #  print(potential)\n",
    "    \n",
    "    redox[ion[0]] = float(potential[0])\n",
    "    \n",
    "    l = len(ion)\n"
   ]
  },
  {
   "cell_type": "code",
   "execution_count": 10,
   "id": "df48f9da",
   "metadata": {},
   "outputs": [],
   "source": [
    "def generate123Combinations(bOne, bTwo, bThree, redoxOn):\n",
    "    \n",
    "\n",
    "    validCombinations = [] #combinations \n",
    "    noInfo = []\n",
    "\n",
    "    #i is the 1+, j is 2+, and k is 3+\n",
    "\n",
    "    for i in b1: \n",
    "        for j in b2:\n",
    "            for k in b3:\n",
    "\n",
    "                c = [i,j,k] \n",
    "                if bOne != \"\":\n",
    "                    c[0] = bOne\n",
    "                \n",
    "                if bTwo != \"\":\n",
    "                    c[1] = bTwo\n",
    "                    \n",
    "                if bThree != \"\":\n",
    "                    c[2] = bThree\n",
    "\n",
    "                if i not in redox:\n",
    "                    if i not in noInfo:\n",
    "                        noInfo.append(i)\n",
    "\n",
    "                elif j not in redox:\n",
    "                     if j not in noInfo:\n",
    "                        noInfo.append(j)\n",
    "\n",
    "                elif k not in redox:\n",
    "                     if k not in noInfo:\n",
    "                            noInfo.append(k)\n",
    "\n",
    "                #if we want to account for redox potentials:\n",
    "                elif redoxOn == True:\n",
    "                    if i in redox and redox[i] < redox[j] and k in redox and redox[k] > redox[j] and j in redox:\n",
    "                        validCombinations.append(c)\n",
    "                        \n",
    "                elif redoxOn == False: #avoids duplicates\n",
    "                    if c not in validCombinations:\n",
    "                        validCombinations.append(c)\n",
    "\n",
    "    return(validCombinations)\n"
   ]
  },
  {
   "cell_type": "code",
   "execution_count": 4,
   "id": "b14f6212",
   "metadata": {},
   "outputs": [],
   "source": [
    "def generate42vacancyCombinations(bTwo, bFour, redoxOn):\n",
    "    for i in b4:\n",
    "        for j in b2:\n",
    "                c = [i,j,\"vacancy\"] \n",
    "                if bFour != \"\":\n",
    "                    c[0] = bFour\n",
    "                \n",
    "                if bTwo != \"\":\n",
    "                    c[1] = bTwo\n",
    "                    \n",
    "                if i not in redox:\n",
    "                    if i not in noInfo:\n",
    "                        noInfo.append(i)\n",
    "\n",
    "                elif j not in redox:\n",
    "                     if j not in noInfo:\n",
    "                        noInfo.append(j)\n",
    "\n",
    "                elif redoxOn == True:\n",
    "                    if i in redox and redox[i] < redox[j] and k in redox and redox[k] > redox[j] and j in redox:\n",
    "                        validCombinations.append(c)\n",
    "                        \n",
    "                elif redoxOn == False:\n",
    "                    if c not in validCombinations:\n",
    "                        validCombinations.append(c)\n",
    "\n",
    "    for i in noInfo:\n",
    "        print(\"no info info on: \" + str(i))"
   ]
  },
  {
   "cell_type": "code",
   "execution_count": 12,
   "id": "ab9bdc0a",
   "metadata": {},
   "outputs": [],
   "source": [
    "def createCSV(fileName, combinations):\n",
    "    with open(fileName, 'w',newline=\"\") as csv_file:  \n",
    "            writer = csv.writer(csv_file)\n",
    "            writer.writerows(combinations)\n",
    "#             for i in combinations:\n",
    "#                 print(i)\n",
    "#                 writer.writerow([i])"
   ]
  },
  {
   "cell_type": "code",
   "execution_count": 25,
   "id": "1eef6812",
   "metadata": {},
   "outputs": [],
   "source": [
    "# print(len(generate123Combinations(\"\",\"Cr2+\",\"\", False)))\n",
    "# #print(len(generate123Combinations(\"\",\"\",\"\")))\n",
    "\n",
    "# print(generate123Combinations(\"\",\"Cr2+\",\"\", False))\n",
    "# #print(validCombinations)\n",
    "    "
   ]
  },
  {
   "cell_type": "code",
   "execution_count": 26,
   "id": "30267ca0",
   "metadata": {},
   "outputs": [],
   "source": [
    "# print(len(generate123Combinations(\"\",\"\",\"\", True)))\n",
    "\n",
    "# print(generate123Combinations(\"\",\"\",\"\", True))\n",
    "\n",
    "\n"
   ]
  },
  {
   "cell_type": "code",
   "execution_count": 27,
   "id": "3e0063b9",
   "metadata": {},
   "outputs": [],
   "source": [
    "#notes: for the generate123Combinations function, use the following format to call the function:\n",
    "    #generate123Combinations(b1+ ion, b2+ ion, b3+ ion, redoxOn = True or False)\n",
    "    #if you don't want to limit to to a specific ion, type in \"\" for each ion when calling the function\n",
    "    #ex: generate123Combinations(\"\",\"\",\"\", False) will return all possible combinations\n",
    "    #ex: generate123Combinations(\"\",\"Cr2+\",\"\", True) will return all combinations that contain Cr2+ and account for redox potentials\n",
    "    \n",
    "    \n",
    "#notes: for the generate42vacancyCombinations function, use the following format to call the function:\n",
    "    #generate42vacancyCombinations(b2+ ion, b4+ ion, redoxOn = True or False)\n",
    "    #if you don't want to limit to to a specific ion, type in \"\" for each ion when calling the function\n",
    "    #ex: generate42vacancyCombinations(\"\",\"\", False) will return all possible combinations\n",
    "    #ex: generate42vacancyCombinations(\"\",\"Cr2+\", False) will return all combinations that contain Cr2+ without redox considerations"
   ]
  },
  {
   "cell_type": "code",
   "execution_count": 13,
   "id": "86c4240a",
   "metadata": {},
   "outputs": [
    {
     "name": "stdout",
     "output_type": "stream",
     "text": [
      "[['Ag+', 'Hg2+', 'Bi3+'], ['Ag+', 'Cu2+', 'Bi3+'], ['Ag+', 'Mg2+', 'Bi3+'], ['Ag+', 'Ca2+', 'Bi3+'], ['Ag+', 'Sr2+', 'Bi3+'], ['Ag+', 'V2+', 'Bi3+'], ['Ag+', 'Cr2+', 'Bi3+'], ['Ag+', 'Mn2+', 'Bi3+'], ['Ag+', 'Fe2+', 'Bi3+'], ['Ag+', 'Co2+', 'Bi3+'], ['Ag+', 'Ni2+', 'Bi3+'], ['Ag+', 'Zn2+', 'Bi3+'], ['Ag+', 'Cd2+', 'Bi3+'], ['Ag+', 'Sn2+', 'Bi3+'], ['Ag+', 'Pb2+', 'Bi3+']]\n"
     ]
    }
   ],
   "source": [
    "#Example:\n",
    "\n",
    "agBi = generate123Combinations(\"Ag+\",\"\",\"Bi3+\", False)\n",
    "print(agBi)\n",
    "createCSV(\"AgBiCombinations.csv\", agBi)"
   ]
  },
  {
   "cell_type": "code",
   "execution_count": null,
   "id": "151f2074",
   "metadata": {},
   "outputs": [],
   "source": []
  },
  {
   "cell_type": "code",
   "execution_count": null,
   "id": "8cd1a3be",
   "metadata": {},
   "outputs": [],
   "source": []
  }
 ],
 "metadata": {
  "kernelspec": {
   "display_name": "Python 3",
   "language": "python",
   "name": "python3"
  },
  "language_info": {
   "codemirror_mode": {
    "name": "ipython",
    "version": 3
   },
   "file_extension": ".py",
   "mimetype": "text/x-python",
   "name": "python",
   "nbconvert_exporter": "python",
   "pygments_lexer": "ipython3",
   "version": "3.8.10"
  }
 },
 "nbformat": 4,
 "nbformat_minor": 5
}
